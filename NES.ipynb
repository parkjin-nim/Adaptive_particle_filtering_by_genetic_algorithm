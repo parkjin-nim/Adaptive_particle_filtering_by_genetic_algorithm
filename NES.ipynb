{
 "cells": [
  {
   "cell_type": "markdown",
   "metadata": {},
   "source": [
    "---\n",
    "## Natural Evolution Strategy(NES)\n",
    "- purpose: \n",
    "    - multi-dimensional, real-value(continuous search space), black-box optimization\n",
    "    - 직접 weight를 optimize하지 않고 (weight의)distribution의 parameter를 optimize해\n",
    "      새로운 weight후보를 sampling추출하는 방식\n",
    "\n",
    "- steps: \n",
    "    - 오직 better individual이 되기위한 mutation에 집중됨\n",
    "    - population: 각 individual은 (search) distribution으로부터 sampling됨.\n",
    "    - mutation과정은 **(search) distribution parameter, theta를 update하는 과정임(i.e., Gaussian분포라 가정하면 mu와 cov.)**\n",
    "        - Sample들과 그 fitness값을 이용해 Monte Carlo simulation방식으로, theta에 대한 gradient를 추정.\n",
    "        - gradient를 Natural gradient로 바꿈.\n",
    "        - 높은 기대값의 fitness를 구하는 방향으로 gradient ascent방식으로 theta를 update한다. \n",
    "        - **(search) distribution의 모양을 adaptive방식으로 capture하는 것**\n",
    "       \n",
    "- usage:\n",
    "    - complex function optimization에 사용\n",
    "    - **Natural Gradient를 사용**해 objective에 대한 정보가 없는 경우, continuous, complex, noisy, 시간에 따라 변하는 문제에 적용가능 \n",
    "    - parallel computing, multi-objective, contraint optimization 적용가능\n",
    "    \n",
    "- papaers:\n",
    "    - Natural Evolution Strategies - Daan Wierstra et.al\n",
    "    - Benchmarking Separable Natural Evolution Strategies on the Noiseless and Noisy Black-box Optimization Testbeds - Tom Schaul"
   ]
  },
  {
   "cell_type": "code",
   "execution_count": 3,
   "metadata": {},
   "outputs": [
    {
     "name": "stdout",
     "output_type": "stream",
     "text": [
      "iter 0. w: [1.76405235 0.40015721 0.97873798], solution: [ 0.5  0.1 -0.3], reward: -3.323094\n",
      "iter 20. w: [1.63796944 0.36987244 0.84497941], solution: [ 0.5  0.1 -0.3], reward: -2.678783\n",
      "iter 40. w: [1.50042904 0.33577052 0.70329169], solution: [ 0.5  0.1 -0.3], reward: -2.063040\n",
      "iter 60. w: [1.36438269 0.29247833 0.56990397], solution: [ 0.5  0.1 -0.3], reward: -1.540938\n",
      "iter 80. w: [1.2257328  0.25622233 0.43607161], solution: [ 0.5  0.1 -0.3], reward: -1.092895\n",
      "iter 100. w: [1.08819889 0.22827364 0.30415088], solution: [ 0.5  0.1 -0.3], reward: -0.727430\n",
      "iter 120. w: [0.95675286 0.19282042 0.16682465], solution: [ 0.5  0.1 -0.3], reward: -0.435164\n",
      "iter 140. w: [0.82214521 0.16161165 0.03600742], solution: [ 0.5  0.1 -0.3], reward: -0.220475\n",
      "iter 160. w: [ 0.70282088  0.12935569 -0.09779598], solution: [ 0.5  0.1 -0.3], reward: -0.082885\n",
      "iter 180. w: [ 0.58380424  0.11579811 -0.21083135], solution: [ 0.5  0.1 -0.3], reward: -0.015224\n",
      "iter 200. w: [ 0.52089064  0.09897718 -0.2761225 ], solution: [ 0.5  0.1 -0.3], reward: -0.001008\n",
      "iter 220. w: [ 0.50861791  0.10220363 -0.29023563], solution: [ 0.5  0.1 -0.3], reward: -0.000174\n",
      "iter 240. w: [ 0.50428202  0.10834192 -0.29828744], solution: [ 0.5  0.1 -0.3], reward: -0.000091\n",
      "iter 260. w: [ 0.50147991  0.1044559  -0.30255291], solution: [ 0.5  0.1 -0.3], reward: -0.000029\n",
      "iter 280. w: [ 0.50208135  0.0986722  -0.29841024], solution: [ 0.5  0.1 -0.3], reward: -0.000009\n"
     ]
    }
   ],
   "source": [
    "\"\"\"\n",
    "[코드참고: https://gist.github.com/karpathy/77fbb6a8dac5395f1b73e7a89300318d]\n",
    "\"\"\"\n",
    "\"\"\"\n",
    "A bare bones examples of optimizing a black-box function (f) using\n",
    "Natural Evolution Strategies (NES), where the parameter distribution is a \n",
    "gaussian of fixed standard deviation.\n",
    "\"\"\"\n",
    "\n",
    "import numpy as np\n",
    "np.random.seed(0)\n",
    "\n",
    "# the function we want to optimize\n",
    "def f(w):\n",
    "    # here we would normally:\n",
    "    # ... 1) create a neural network with weights w\n",
    "    # ... 2) run the neural network on the environment for some time\n",
    "    # ... 3) sum up and return the total reward\n",
    "\n",
    "    # but for the purposes of an example, lets try to minimize\n",
    "    # the L2 distance to a specific solution vector. So the highest reward\n",
    "    # we can achieve is 0, when the vector w is exactly equal to solution\n",
    "    \n",
    "    reward = -np.sum(np.square(solution - w))\n",
    "    return reward\n",
    "    \n",
    "# hyperparameters\n",
    "npop = 50 # population size\n",
    "sigma = 0.1 # noise standard deviation\n",
    "alpha = 0.001 # learning rate\n",
    "\n",
    "# start the optimization\n",
    "solution = np.array([0.5, 0.1, -0.3])\n",
    "w = np.random.randn(3) # our initial guess is random\n",
    "for i in range(300):\n",
    "\n",
    "    # print current fitness of the most likely parameter setting\n",
    "    if i % 20 == 0:\n",
    "        print('iter %d. w: %s, solution: %s, reward: %f' % \n",
    "          (i, str(w), str(solution), f(w)))\n",
    "\n",
    "    # initialize memory for a population of w's, and their rewards\n",
    "    N = np.random.randn(npop, 3) # samples from a normal distribution N(0,1)\n",
    "    R = np.zeros(npop)\n",
    "    for j in range(npop):\n",
    "        w_try = w + sigma*N[j] # jitter w using gaussian of sigma 0.1\n",
    "        R[j] = f(w_try) # evaluate the jittered version\n",
    "        \n",
    "    # standardize the rewards to have a gaussian distribution\n",
    "    A = (R - np.mean(R)) / np.std(R)\n",
    "    \n",
    "    # perform the parameter update. The matrix multiply below\n",
    "    # is just an efficient way to sum up all the rows of the noise matrix N,\n",
    "    # where each row N[j] is weighted by A[j]\n",
    "    w = w + alpha/(npop*sigma) * np.dot(N.T, A)\n",
    "\n",
    "# when run, prints:\n",
    "# iter 0. w: [ 1.76405235  0.40015721  0.97873798], solution: [ 0.5  0.1 -0.3], reward: -3.323094\n",
    "# iter 20. w: [ 1.63796944  0.36987244  0.84497941], solution: [ 0.5  0.1 -0.3], reward: -2.678783\n",
    "# iter 40. w: [ 1.50042904  0.33577052  0.70329169], solution: [ 0.5  0.1 -0.3], reward: -2.063040\n",
    "# iter 60. w: [ 1.36438269  0.29247833  0.56990397], solution: [ 0.5  0.1 -0.3], reward: -1.540938\n",
    "# iter 80. w: [ 1.2257328   0.25622233  0.43607161], solution: [ 0.5  0.1 -0.3], reward: -1.092895\n",
    "# iter 100. w: [ 1.08819889  0.22827364  0.30415088], solution: [ 0.5  0.1 -0.3], reward: -0.727430\n",
    "# iter 120. w: [ 0.95675286  0.19282042  0.16682465], solution: [ 0.5  0.1 -0.3], reward: -0.435164\n",
    "# iter 140. w: [ 0.82214521  0.16161165  0.03600742], solution: [ 0.5  0.1 -0.3], reward: -0.220475\n",
    "# iter 160. w: [ 0.70282088  0.12935569 -0.09779598], solution: [ 0.5  0.1 -0.3], reward: -0.082885\n",
    "# iter 180. w: [ 0.58380424  0.11579811 -0.21083135], solution: [ 0.5  0.1 -0.3], reward: -0.015224\n",
    "# iter 200. w: [ 0.52089064  0.09897718 -0.2761225 ], solution: [ 0.5  0.1 -0.3], reward: -0.001008\n",
    "# iter 220. w: [ 0.50861791  0.10220363 -0.29023563], solution: [ 0.5  0.1 -0.3], reward: -0.000174\n",
    "# iter 240. w: [ 0.50428202  0.10834192 -0.29828744], solution: [ 0.5  0.1 -0.3], reward: -0.000091\n",
    "# iter 260. w: [ 0.50147991  0.1044559  -0.30255291], solution: [ 0.5  0.1 -0.3], reward: -0.000029\n",
    "# iter 280. w: [ 0.50208135  0.0986722  -0.29841024], solution: [ 0.5  0.1 -0.3], reward: -0.000009\n",
    "\n",
    "\n"
   ]
  },
  {
   "cell_type": "markdown",
   "metadata": {},
   "source": [
    "# NES_v2.2"
   ]
  },
  {
   "cell_type": "code",
   "execution_count": 4,
   "metadata": {},
   "outputs": [],
   "source": [
    "from math import *\n",
    "import numpy as np\n",
    "from scipy.stats import multivariate_normal\n",
    "import scipy.stats\n",
    "np.random.seed(0)\n",
    "\n",
    "# the function we want to optimize\n",
    "def fobj_(w):\n",
    "    # take negative. because of NES's only gradient ascent.\n",
    "    reward = -np.sum(np.square(solution - w))\n",
    "    return reward\n",
    "\n",
    "def nes(f, alpha=0.001, sigma=0.1, npop=5000, its=1000):\n",
    "\n",
    "    w = np.random.randn(3) # our initial guess is random\n",
    "\n",
    "    for i in range(its):\n",
    "\n",
    "        # print current fitness of the most likely parameter setting\n",
    "        if i % 20 == 0:\n",
    "            print('iter %d. w: %s, solution: %s, reward: %f' % \n",
    "              (i, str(w), str(solution), f(w)))\n",
    "\n",
    "        # initialize memory for a population of w's, and their rewards\n",
    "        N = np.random.randn(npop, 3) # samples from a normal distribution N(0,1)\n",
    "        R = np.zeros(npop)\n",
    "        for j in range(npop):\n",
    "            w_try = w + sigma*N[j] # jitter w using gaussian of sigma 0.1\n",
    "            R[j] = f(w_try) # evaluate the jittered version\n",
    "\n",
    "        # standardize the rewards to have a gaussian distribution\n",
    "        A = (R - np.mean(R)) / np.std(R)\n",
    "\n",
    "        # perform the parameter update. The matrix multiply below\n",
    "        # is just an efficient way to sum up all the rows of the noise matrix N,\n",
    "        # where each row N[j] is weighted by A[j]\n",
    "        w = w + alpha/(npop*sigma) * np.dot(N.T, A)\n",
    "\n",
    "        yield w, f(w)"
   ]
  },
  {
   "cell_type": "code",
   "execution_count": 7,
   "metadata": {},
   "outputs": [
    {
     "name": "stdout",
     "output_type": "stream",
     "text": [
      "iter 0. w: [0.24609468 1.74473559 0.60329413], solution: [ 0.5  0.1 -0.3], reward: -3.585563\n",
      "iter 20. w: [0.27213483 1.57222097 0.50758051], solution: [ 0.5  0.1 -0.3], reward: -2.871543\n",
      "iter 40. w: [0.29931208 1.39872792 0.41265703], solution: [ 0.5  0.1 -0.3], reward: -2.234850\n",
      "iter 60. w: [0.32627166 1.2251898  0.31752627], solution: [ 0.5  0.1 -0.3], reward: -1.677572\n",
      "iter 80. w: [0.35235917 1.05262693 0.22222417], solution: [ 0.5  0.1 -0.3], reward: -1.202014\n",
      "iter 100. w: [0.3793243  0.88038886 0.12880622], solution: [ 0.5  0.1 -0.3], reward: -0.807444\n",
      "iter 120. w: [0.40585262 0.70880061 0.03416105], solution: [ 0.5  0.1 -0.3], reward: -0.491166\n",
      "iter 140. w: [ 0.4323583   0.53889219 -0.05938014], solution: [ 0.5  0.1 -0.3], reward: -0.255100\n",
      "iter 160. w: [ 0.45744291  0.37265986 -0.15090062], solution: [ 0.5  0.1 -0.3], reward: -0.098385\n",
      "iter 180. w: [ 0.47999527  0.22215866 -0.2333023 ], solution: [ 0.5  0.1 -0.3], reward: -0.019772\n",
      "iter 200. w: [ 0.4950797   0.13062281 -0.28343986], solution: [ 0.5  0.1 -0.3], reward: -0.001236\n",
      "iter 220. w: [ 0.49869667  0.10536182 -0.29783885], solution: [ 0.5  0.1 -0.3], reward: -0.000035\n",
      "iter 240. w: [ 0.49996554  0.10098002 -0.29953166], solution: [ 0.5  0.1 -0.3], reward: -0.000001\n",
      "iter 260. w: [ 0.49959959  0.09977924 -0.2997166 ], solution: [ 0.5  0.1 -0.3], reward: -0.000000\n",
      "iter 280. w: [ 0.50051425  0.10000813 -0.30000875], solution: [ 0.5  0.1 -0.3], reward: -0.000000\n"
     ]
    },
    {
     "data": {
      "text/plain": [
       "[<matplotlib.lines.Line2D at 0x7fc35a028b00>]"
      ]
     },
     "execution_count": 7,
     "metadata": {},
     "output_type": "execute_result"
    },
    {
     "data": {
      "image/png": "[encoded data removed]",
      "text/plain": [
       "<Figure size 432x288 with 1 Axes>"
      ]
     },
     "metadata": {
      "needs_background": "light"
     },
     "output_type": "display_data"
    }
   ],
   "source": [
    "import matplotlib.pyplot as plt\n",
    "\n",
    "solution = np.array([0.5, 0.1, -0.3])\n",
    "\n",
    "result = list(nes(fobj_, alpha= 0.001, sigma= 0.1, its=300))\n",
    "\n",
    "x, f = zip(*result)\n",
    "plt.plot(f)"
   ]
  },
  {
   "cell_type": "code",
   "execution_count": null,
   "metadata": {},
   "outputs": [],
   "source": []
  },
  {
   "cell_type": "markdown",
   "metadata": {},
   "source": [
    "# NES_v3.0"
   ]
  },
  {
   "cell_type": "code",
   "execution_count": 2,
   "metadata": {},
   "outputs": [],
   "source": [
    "from math import *\n",
    "import numpy as np\n",
    "from scipy.stats import multivariate_normal\n",
    "import scipy.stats\n",
    "np.random.seed(0)\n",
    "\n",
    "# the function we want to optimize\n",
    "def fobj_(w):\n",
    "    # take negative. because of NES's only gradient ascent.\n",
    "    reward = -np.sum(np.square(solution - w))\n",
    "    return reward\n",
    "\n",
    "def nes(f, alpha=0.001, sigma=0.1, npop=5000, its=1000):\n",
    "    \n",
    "    diag = np.zeros((3,3), float)\n",
    "    np.fill_diagonal(diag, 0.1)\n",
    "    #print(sigma)\n",
    "    \n",
    "    w = np.random.randn(3) # our initial guess is random\n",
    "\n",
    "    for i in range(its):\n",
    "\n",
    "        # print current fitness of the most likely parameter setting\n",
    "        if i % 20 == 0:\n",
    "            print('iter %d. w: %s, solution: %s, reward: %f, sigma: %s' % \n",
    "              (i, str(w), str(solution), f(w), sigma))\n",
    "\n",
    "        # initialize memory for a population of w's, and their rewards\n",
    "        N = np.random.randn(npop, 3) # samples from a normal distribution N(0,1)\n",
    "        R = np.zeros(npop)\n",
    "        for j in range(npop):\n",
    "            #w_try = w + sigma*N[j] # jitter w using gaussian of sigma 0.1\n",
    "            #print(N[j])\n",
    "            w_try = w + np.dot(N[j], sigma)\n",
    "            R[j] = f(w_try) # evaluate the jittered version\n",
    "\n",
    "        # standardize the rewards to have a gaussian distribution\n",
    "        A = (R - np.mean(R)) / np.std(R)\n",
    "\n",
    "        # perform the parameter update. The matrix multiply below\n",
    "        # is just an efficient way to sum up all the rows of the noise matrix N,\n",
    "        # where each row N[j] is weighted by A[j]\n",
    "        w = w + alpha/(npop*sigma) * np.dot(N.T, A)\n",
    "        #sigma = sigma*np.max(np.exp(alpha/2 * np.dot((N * N -1).T, A)))\n",
    "        sigma = sigma*np.exp(beta/2 * np.dot((N * N -1).T, A))\n",
    "\n",
    "    \n",
    "\n",
    "        yield w, f(w)"
   ]
  },
  {
   "cell_type": "code",
   "execution_count": 3,
   "metadata": {},
   "outputs": [
    {
     "name": "stdout",
     "output_type": "stream",
     "text": [
      "iter 0. w: [1.76405235 0.40015721 0.97873798], solution: [ 0.5  0.1 -0.3], reward: -3.323094, sigma: 0.1\n",
      "iter 20. w: [1.46442295 0.10535391 0.67982791], solution: [ 0.5  0.1 -0.3], reward: -1.890203, sigma: [0.02034145 0.01943453 0.02004898]\n",
      "iter 40. w: [ 0.94960714 -0.4024553   0.16534832], solution: [ 0.5  0.1 -0.3], reward: -0.671157, sigma: [0.00234716 0.00247181 0.00312976]\n",
      "iter 60. w: [ 0.95971541 -0.42976961  0.12557249], solution: [ 0.5  0.1 -0.3], reward: -0.673106, sigma: [0.0026433  0.00145773 0.00138653]\n",
      "iter 80. w: [ 0.94266477 -0.36276241  0.13988317], solution: [ 0.5  0.1 -0.3], reward: -0.603598, sigma: [0.00136146 0.00194157 0.00117962]\n",
      "iter 100. w: [ 1.05416789 -0.27873278  0.14519934], solution: [ 0.5  0.1 -0.3], reward: -0.648743, sigma: [0.00083471 0.00217111 0.00063823]\n",
      "iter 120. w: [ 0.8676669  -0.31982726  0.14886857], solution: [ 0.5  0.1 -0.3], reward: -0.512917, sigma: [0.00123356 0.00238832 0.00067043]\n",
      "iter 140. w: [ 0.95779578 -0.23414748  0.21822176], solution: [ 0.5  0.1 -0.3], reward: -0.589785, sigma: [0.00171427 0.00215718 0.00053637]\n",
      "iter 160. w: [ 0.96091661 -0.18678773  0.05863033], solution: [ 0.5  0.1 -0.3], reward: -0.423307, sigma: [0.00139516 0.00237926 0.0005872 ]\n",
      "iter 180. w: [ 1.19325234 -0.07814777  0.27022765], solution: [ 0.5  0.1 -0.3], reward: -0.837495, sigma: [0.00099569 0.00147242 0.00069954]\n",
      "iter 200. w: [ 1.10692793 -0.0956043   0.18329777], solution: [ 0.5  0.1 -0.3], reward: -0.640199, sigma: [0.00113571 0.00174508 0.00065952]\n",
      "iter 220. w: [ 1.05696285 -0.21779542  0.12809635], solution: [ 0.5  0.1 -0.3], reward: -0.594468, sigma: [0.0013549  0.00181435 0.00065115]\n",
      "iter 240. w: [ 0.97617306 -0.29415547  0.11563505], solution: [ 0.5  0.1 -0.3], reward: -0.554852, sigma: [0.00186702 0.00174636 0.0008966 ]\n",
      "iter 260. w: [ 1.09479416 -0.24550791  0.23625286], solution: [ 0.5  0.1 -0.3], reward: -0.760723, sigma: [0.00080547 0.00101273 0.00099865]\n",
      "iter 280. w: [ 1.24414182 -0.35645289  0.33356185], solution: [ 0.5  0.1 -0.3], reward: -1.163497, sigma: [0.00070621 0.00085228 0.00087628]\n"
     ]
    },
    {
     "data": {
      "text/plain": [
       "[<matplotlib.lines.Line2D at 0x7fdbf4ed3a58>]"
      ]
     },
     "execution_count": 3,
     "metadata": {},
     "output_type": "execute_result"
    },
    {
     "data": {
      "image/png": "[encoded data removed]",
      "text/plain": [
       "<Figure size 432x288 with 1 Axes>"
      ]
     },
     "metadata": {
      "needs_background": "light"
     },
     "output_type": "display_data"
    }
   ],
   "source": [
    "import matplotlib.pyplot as plt\n",
    "\n",
    "solution = np.array([0.5, 0.1, -0.3])\n",
    "\n",
    "result = list(nes(fobj_, alpha= 0.001, sigma= 0.1, its=300))\n",
    "\n",
    "x, f = zip(*result)\n",
    "plt.plot(f)"
   ]
  },
  {
   "cell_type": "code",
   "execution_count": null,
   "metadata": {},
   "outputs": [],
   "source": [
    "np.ones(2)"
   ]
  },
  {
   "cell_type": "code",
   "execution_count": null,
   "metadata": {},
   "outputs": [],
   "source": []
  }
 ],
 "metadata": {
  "kernelspec": {
   "display_name": "Python 3",
   "language": "python",
   "name": "python3"
  },
  "language_info": {
   "codemirror_mode": {
    "name": "ipython",
    "version": 3
   },
   "file_extension": ".py",
   "mimetype": "text/x-python",
   "name": "python",
   "nbconvert_exporter": "python",
   "pygments_lexer": "ipython3",
   "version": "3.6.12"
  }
 },
 "nbformat": 4,
 "nbformat_minor": 4
}
